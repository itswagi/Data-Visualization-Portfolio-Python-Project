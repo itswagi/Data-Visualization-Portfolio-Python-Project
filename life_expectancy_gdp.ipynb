{
 "cells": [
  {
   "cell_type": "code",
   "execution_count": 1,
   "metadata": {},
   "outputs": [],
   "source": [
    "import pandas as pd\n",
    "from matplotlib import pyplot\n",
    "import seaborn as sns"
   ]
  },
  {
   "source": [
    "The Scope of this project is to analyze and identify key observations in the dataset and visually present the observations.\n",
    "\n",
    "For now, my goals are to analyze:\n",
    "\n",
    "1. Has life expectancy increased over time in the six nations?\n",
    "2. Has GDP increased over time in the six nations?\n",
    "3. Is there a correlation between GDP and life expectancy of a country?\n",
    "4. What is the average life expectancy in these nations?\n",
    "5. What is the distribution of that life expectancy?\n",
    "\n",
    "I may add more obvious hypothesis to the above as I look at the dataset over the course of the project."
   ],
   "cell_type": "markdown",
   "metadata": {}
  },
  {
   "cell_type": "code",
   "execution_count": 7,
   "metadata": {},
   "outputs": [
    {
     "output_type": "stream",
     "name": "stdout",
     "text": [
      "   Country  Year  Life expectancy at birth (years)           GDP\n0    Chile  2000                              77.3  7.786093e+10\n1    Chile  2001                              77.3  7.097992e+10\n2    Chile  2002                              77.8  6.973681e+10\n3    Chile  2003                              77.9  7.564346e+10\n4    Chile  2004                              78.0  9.921039e+10\n5    Chile  2005                              78.4  1.229650e+11\n6    Chile  2006                              78.9  1.547880e+11\n7    Chile  2007                              78.9  1.736060e+11\n8    Chile  2008                              79.6  1.796380e+11\n9    Chile  2009                              79.3  1.723890e+11\n10   Chile  2010                              79.1  2.185380e+11\n11   Chile  2011                              79.8  2.522520e+11\n12   Chile  2012                              79.9  2.671220e+11\n13   Chile  2013                              80.1  2.783840e+11\n14   Chile  2014                              80.3  2.609900e+11\n15   Chile  2015                              80.5  2.425180e+11\n16   China  2000                              71.7  1.211350e+12\n17   China  2001                              72.2  1.339400e+12\n18   China  2002                              72.7  1.470550e+12\n19   China  2003                              73.1  1.660290e+12\n(96, 4)\n"
     ]
    }
   ],
   "source": [
    "df = pd.read_csv('all_data.csv')\n",
    "print(df.head(20))\n",
    "print(df.shape)"
   ]
  },
  {
   "source": [],
   "cell_type": "markdown",
   "metadata": {}
  },
  {
   "source": [
    "From a brief look at the dataset, we can see that it has 4 columns and 96 rows. The 3rd column name needs to be shortened in order to make it easier for us to use that in future calculations."
   ],
   "cell_type": "markdown",
   "metadata": {}
  },
  {
   "cell_type": "code",
   "execution_count": 10,
   "metadata": {},
   "outputs": [
    {
     "output_type": "stream",
     "name": "stdout",
     "text": [
      "  Country  Year  Expectancy           GDP\n0   Chile  2000        77.3  7.786093e+10\n1   Chile  2001        77.3  7.097992e+10\n2   Chile  2002        77.8  6.973681e+10\n3   Chile  2003        77.9  7.564346e+10\n4   Chile  2004        78.0  9.921039e+10\n"
     ]
    }
   ],
   "source": [
    "df.rename(columns = {\"Life expectancy at birth (years)\": \"Expectancy\" }, inplace=True)\n",
    "print(df.head())"
   ]
  },
  {
   "cell_type": "code",
   "execution_count": null,
   "metadata": {},
   "outputs": [],
   "source": []
  }
 ],
 "metadata": {
  "kernelspec": {
   "name": "Python 3.7.6 64-bit ('base': conda)",
   "display_name": "Python 3.7.6 64-bit ('base': conda)",
   "metadata": {
    "interpreter": {
     "hash": "29e130cf30c3d4a783820cd59d7e128611202a85f4539b87509fb3d55a24318f"
    }
   }
  },
  "language_info": {
   "codemirror_mode": {
    "name": "ipython",
    "version": 3
   },
   "file_extension": ".py",
   "mimetype": "text/x-python",
   "name": "python",
   "nbconvert_exporter": "python",
   "pygments_lexer": "ipython3",
   "version": "3.7.6-final"
  }
 },
 "nbformat": 4,
 "nbformat_minor": 4
}